{
 "cells": [
  {
   "cell_type": "code",
   "execution_count": null,
   "metadata": {},
   "outputs": [],
   "source": [
    "import pandas as pd\n",
    "import numpy as np\n",
    "import matplotlib.pyplot as plt\n",
    "import seaborn as sns\n",
    "%matplotlib inline\n",
    "from sklearn import datasets\n",
    "iris = datasets.load_iris()\n",
    "\n",
    "df=pd.DataFrame(iris['data'])\n",
    "print(df.head)\n",
    "\n",
    "from scipy.cluster.vq import whiten\n",
    "scaled_data = whiten(df.to_numpy())\n",
    "\n",
    "from scipy.cluster.hierarchy import fcluster, linkage\n",
    "\n",
    "from scipy.cluster.hierarchy import dendrogram\n",
    "\n",
    "dn = dendrogram(distance_matrix)\n",
    "\n",
    "plt.show()"
   ]
  }
 ],
 "metadata": {
  "language_info": {
   "name": "python"
  },
  "orig_nbformat": 4
 },
 "nbformat": 4,
 "nbformat_minor": 2
}
