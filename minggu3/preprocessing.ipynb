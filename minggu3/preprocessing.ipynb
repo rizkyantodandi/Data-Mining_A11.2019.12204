{
 "cells": [
  {
   "cell_type": "code",
   "execution_count": 8,
   "metadata": {},
   "outputs": [
    {
     "name": "stdout",
     "output_type": "stream",
     "text": [
      "[['2021-10-01' 3172051003 'JAKARTA UTARA' ... 'ANCOL' 'LANSIA' 'Dosis 1']\n",
      " ['2021-10-01' 3173041007 'JAKARTA BARAT' ... 'ANGKE' 'LANSIA' 'Dosis 1']\n",
      " ['2021-10-01' 3175041005 'JAKARTA TIMUR' ... 'BALE KAMBANG' 'LANSIA'\n",
      "  'Dosis 1']\n",
      " ...\n",
      " ['2021-10-31' 3171031008 'JAKARTA PUSAT' ... 'UTAN PANJANG' 'LANSIA'\n",
      "  'Dosis 2']\n",
      " ['2021-10-31' 3172021007 'JAKARTA UTARA' ... 'WARAKAS' 'LANSIA'\n",
      "  'Dosis 2']\n",
      " ['2021-10-31' 3173021007 'JAKARTA BARAT' ... 'WIJAYA KUSUMA' 'LANSIA'\n",
      "  'Dosis 2']]\n",
      "[['2021-10-01' 3172051003 'JAKARTA UTARA' ... 'ANCOL' 'LANSIA' 'Dosis 1']\n",
      " ['2021-10-01' 3173041007 'JAKARTA BARAT' ... 'ANGKE' 'LANSIA' 'Dosis 1']\n",
      " ['2021-10-01' 3175041005 'JAKARTA TIMUR' ... 'BALE KAMBANG' 'LANSIA'\n",
      "  'Dosis 1']\n",
      " ...\n",
      " ['2021-10-31' 3171031008 'JAKARTA PUSAT' ... 'UTAN PANJANG' 'LANSIA'\n",
      "  'Dosis 2']\n",
      " ['2021-10-31' 3172021007 'JAKARTA UTARA' ... 'WARAKAS' 'LANSIA'\n",
      "  'Dosis 2']\n",
      " ['2021-10-31' 3173021007 'JAKARTA BARAT' ... 'WIJAYA KUSUMA' 'LANSIA'\n",
      "  'Dosis 2']]\n"
     ]
    }
   ],
   "source": [
    "import numpy as np\n",
    "import matplotlib.pyplot as plt\n",
    "import pandas as pd\n",
    "\n",
    "dataset = pd.read_csv('data.csv')\n",
    "X= dataset.iloc[:, :-1].values\n",
    "y = dataset.iloc[:, :-1].values\n",
    "\n",
    "from sklearn.model_selection import train_test_split\n",
    "X_train, X_test, y_train, y_test = train_test_split(X, y, test_size = 0.2, random_state = 0)\n",
    "\n",
    "print(X)\n",
    "print(y)"
   ]
  }
 ],
 "metadata": {
  "interpreter": {
   "hash": "aecd030d4c8316a52bf122072e28f84bcc79844c2684e041fef2e3f1d9f59078"
  },
  "kernelspec": {
   "display_name": "Python 3.10.2 64-bit",
   "language": "python",
   "name": "python3"
  },
  "language_info": {
   "codemirror_mode": {
    "name": "ipython",
    "version": 3
   },
   "file_extension": ".py",
   "mimetype": "text/x-python",
   "name": "python",
   "nbconvert_exporter": "python",
   "pygments_lexer": "ipython3",
   "version": "3.10.2"
  },
  "orig_nbformat": 4
 },
 "nbformat": 4,
 "nbformat_minor": 2
}
