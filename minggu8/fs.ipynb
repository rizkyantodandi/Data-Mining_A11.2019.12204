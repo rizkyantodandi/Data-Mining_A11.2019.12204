{
 "cells": [
  {
   "cell_type": "code",
   "execution_count": 2,
   "metadata": {},
   "outputs": [
    {
     "name": "stdout",
     "output_type": "stream",
     "text": [
      "Output Layer Output (Linear)\n",
      "===============================\n",
      "[[22.99999472]\n",
      " [25.999994  ]\n",
      " [28.99999328]\n",
      " [31.99999256]] \n",
      "\n"
     ]
    }
   ],
   "source": [
    "import numpy as np\n",
    "\n",
    "def forwardPass(inputs, weight, bias):\n",
    "    w_sum = np.dot(inputs, weight) + bias\n",
    "\n",
    "    # Linear Activation\n",
    "    act = w_sum\n",
    "\n",
    "    return act\n",
    "\n",
    "# Pre-trained weights & Biases after Training\n",
    "W = np.array([[2.99999928]])\n",
    "b = np.array([1.99999976])\n",
    "\n",
    "#Intialize Input Data\n",
    "inputs = np.array([[7],[8],[9],[10]])\n",
    "\n",
    "o_out = forwardPass(inputs, W, b)\n",
    "\n",
    "print('Output Layer Output (Linear)')\n",
    "print('===============================')\n",
    "print(o_out, \"\\n\")"
   ]
  }
 ],
 "metadata": {
  "interpreter": {
   "hash": "aecd030d4c8316a52bf122072e28f84bcc79844c2684e041fef2e3f1d9f59078"
  },
  "kernelspec": {
   "display_name": "Python 3.10.2 64-bit",
   "language": "python",
   "name": "python3"
  },
  "language_info": {
   "codemirror_mode": {
    "name": "ipython",
    "version": 3
   },
   "file_extension": ".py",
   "mimetype": "text/x-python",
   "name": "python",
   "nbconvert_exporter": "python",
   "pygments_lexer": "ipython3",
   "version": "3.10.2"
  },
  "orig_nbformat": 4
 },
 "nbformat": 4,
 "nbformat_minor": 2
}
