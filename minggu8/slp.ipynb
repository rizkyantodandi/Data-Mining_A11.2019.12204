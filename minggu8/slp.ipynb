import numpy as np

def forwardPass(inputs, weight, bias):
	w_sum = np.dot(inputs, weight) + bias

	# Linear Activation f(x) = x
	act = w_sum

	return act

# Pre-Trained Weights & Biases after Training
W = np.array([[2.99999928]])
b = np.array([1.99999976])

# Initialize Input Data
inputs = np.array([[7], [8], [9], [10]])

# Output of Output Layer
o_out = forwardPass(inputs, W, b)

print('Output Layer Output (Linear)')
print('================================')
print(o_out, "\n")
